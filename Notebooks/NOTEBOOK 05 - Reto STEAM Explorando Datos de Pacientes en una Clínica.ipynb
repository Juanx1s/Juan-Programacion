{
 "cells": [
  {
   "cell_type": "markdown",
   "metadata": {},
   "source": [
    "# Reto Bootcamp STEAM 🔬💻🎨: Explorando Datos de Pacientes\n",
    "## Fundamentos de Python | UMCA\n",
    "## Profesor: Ing. Andrés Mena Abarca\n",
    "### <mark>Juan Ignacio Vargas</mark>\n",
    "* * *"
   ]
  },
  {
   "attachments": {},
   "cell_type": "markdown",
   "metadata": {},
   "source": [
    "## Misión: Científico de Datos Clínicos\n",
    "\n",
    "¡Bienvenidos al reto STEAM! Nuestra misión hoy es construir un sistema de análisis de datos para una clínica, subiendo el nivel de dificultad paso a paso.\n",
    "\n",
    "Comenzaremos con la práctica esencial de **ciclos y listas** y progresaremos hasta el manejo de estructuras de datos complejas (JSON y diccionarios). Si la base es sólida, ¡el análisis avanzado será fácil!\n",
    "\n",
    "### Objetivos de Programación:\n",
    "1. Dominar el uso del ciclo `for` con listas básicas.\n",
    "2. Comprender y cargar el formato **JSON** en Python.\n",
    "3. Implementar **bucles anidados** para datos complejos.\n",
    "4. Aplicar lógica condicional (`if`) y manejo de listas (`.append()`, `.index()`) en todos los niveles."
   ]
  },
  {
   "cell_type": "markdown",
   "metadata": {},
   "source": [
    "--- \n",
    "## FASE 1: Fundamentos de Ciclos y Listas (Nivel Básico) 👶\n",
    "\n",
    "Antes de trabajar con la base de datos completa, vamos a practicar con una simple lista de provincias. Recuerda que un ciclo `for` es una de las herramientas más poderosas de Python."
   ]
  },
  {
   "cell_type": "code",
   "execution_count": 17,
   "metadata": {
    "language": "python"
   },
   "outputs": [],
   "source": [
    "# Datos simples para empezar a practicar ciclos\n",
    "provincias_visitas = [\"San Jose\", \"Heredia\", \"Alajuela\", \"San Jose\", \"Cartago\", \"Heredia\", \"San Jose\", \"Puntarenas\"]\n"
   ]
  },
  {
   "cell_type": "markdown",
   "metadata": {},
   "source": [
    "### Desafío 1.A: Mostrar el Recorrido (Ciclo Simple)\n",
    "\n",
    "**Instrucción:** Usa un ciclo `for` para recorrer la lista `provincias_visitas` e imprime un mensaje por cada provincia.\n",
    "\n",
    "**Salida Esperada (parcial):**\n",
    "```\n",
    "Analizando visita en San Jose\n",
    "Analizando visita en Heredia\n",
    "..."
   ]
  },
  {
   "cell_type": "code",
   "execution_count": 18,
   "metadata": {},
   "outputs": [
    {
     "name": "stdout",
     "output_type": "stream",
     "text": [
      "Analizando visita en San Jose\n",
      "Analizando visita en Heredia\n",
      "Analizando visita en Alajuela\n",
      "Analizando visita en San Jose\n",
      "Analizando visita en Cartago\n",
      "Analizando visita en Heredia\n",
      "Analizando visita en San Jose\n",
      "Analizando visita en Puntarenas\n"
     ]
    }
   ],
   "source": [
    "# Escribe tu código aquí para el Desafío 1.A\n",
    "for provincia in provincias_visitas:\n",
    "    print(f\"Analizando visita en {provincia}\")\n",
    "\n"
   ]
  },
  {
   "cell_type": "markdown",
   "metadata": {},
   "source": [
    "### Desafío 1.B: Conteo con Condicionales (Ciclo + IF)\n",
    "\n",
    "**Instrucción:** Crea una variable `conteo_san_jose` e inicialízala en cero. Usa el ciclo `for` para recorrer la lista y un condicional `if` para incrementar el contador solo cuando la provincia sea \"San Jose\".\n",
    "\n",
    "**Salida Esperada:**\n",
    "```\n",
    "El número total de visitas en San Jose es: 3\n",
    "```"
   ]
  },
  {
   "cell_type": "code",
   "execution_count": 19,
   "metadata": {},
   "outputs": [
    {
     "name": "stdout",
     "output_type": "stream",
     "text": [
      "El numero total de visitas a San Jose es: 3\n"
     ]
    }
   ],
   "source": [
    "# Escribe tu código aquí para el Desafío 1.B\n",
    "conteo_sanjose = 0\n",
    "for provincia in provincias_visitas:\n",
    "    if provincia == \"San Jose\" :\n",
    "        conteo_sanjose +=1\n",
    "\n",
    "print(f\"El numero total de visitas a San Jose es: {conteo_sanjose}\")\n",
    "    "
   ]
  },
  {
   "cell_type": "markdown",
   "metadata": {},
   "source": [
    "--- \n",
    "## FASE 2: Estructuras Avanzadas (JSON y Diccionarios) 🎓\n",
    "\n",
    "Ahora que dominas los ciclos básicos, vamos a subir al nivel de datos profesionales. Nuestra base de datos está en formato **JSON**.\n",
    "\n",
    "**Recordatorio:** En Python, los objetos JSON se convierten en **Diccionarios** (`{}`) y son la clave para el análisis moderno.\n",
    "**Acceso a datos:** Usarás `paciente['clave']`."
   ]
  },
  {
   "cell_type": "code",
   "execution_count": 20,
   "metadata": {
    "language": "python"
   },
   "outputs": [
    {
     "name": "stdout",
     "output_type": "stream",
     "text": [
      "arochivo cargado existosamente, total de registros: 15\n",
      "Estructura de datos pacientes: \n",
      "{'cedula': 89076541, 'nombre': 'Ana Gómez', 'edad': 34, 'genero': 'F', 'provincia': 'Heredia', 'canton': 'Barva', 'enfermedades': ['migraña', 'gripe'], 'medicamentos': ['acetaminofen', 'ibuprofeno']}\n"
     ]
    }
   ],
   "source": [
    "import json\n",
    "\n",
    "# ¡Asegúrate de tener el archivo 'datos_clinica.json' en la misma carpeta!\n",
    "nombre_archivo = 'datos_clinica.json' \n",
    "datos_pacientes = []\n",
    "\n",
    "try:\n",
    "    #CODIGO PARA LEER ARCHIVO\n",
    "    with open(nombre_archivo, \"r\",encoding=\"utf-8\")as f:\n",
    "        datos_pacientes = json.load(f)\n",
    "    print(f\"arochivo cargado existosamente, total de registros: {len(datos_pacientes)}\")\n",
    "    print(\"Estructura de datos pacientes: \")\n",
    "    print(datos_pacientes[0])\n",
    "    \n",
    "except FileNotFoundError:\n",
    "    print(f\"❌ Error: No se encontró el archivo '{nombre_archivo}'. ¡No puedes continuar!\")\n",
    "except Exception as e:\n",
    "    print(f\"❌ Ocurrió un error al leer el archivo: {e}\")"
   ]
  },
  {
   "cell_type": "markdown",
   "metadata": {},
   "source": [
    "### Desafío 2.A: Primer Contacto con Diccionarios\n",
    "\n",
    "**Instrucción:** Usa un ciclo `for` para recorrer los primeros **tres pacientes** de la lista `datos_pacientes`. Por cada paciente, imprime su nombre y edad usando las claves `'nombre'` y `'edad'`.\n",
    "\n",
    "**Pista:** Puedes usar `datos_pacientes[:3]` para limitar la iteración a los primeros tres elementos.\n",
    "\n",
    "**Salida Esperada (parcial):**\n",
    "```\n",
    "Paciente: Ana Gómez, Edad: 34\n",
    "Paciente: Luis Mora, Edad: 45\n",
    "..."
   ]
  },
  {
   "cell_type": "code",
   "execution_count": 21,
   "metadata": {},
   "outputs": [
    {
     "name": "stdout",
     "output_type": "stream",
     "text": [
      "La paciente: Ana Gómez, Edad: 34\n",
      "El paciente: Luis Mora, Edad: 45\n",
      "La paciente: Sofía Salas, Edad: 29\n",
      "El paciente: Carlos Rojas, Edad: 50\n",
      "La paciente: Elena Castro, Edad: 62\n",
      "El paciente: David Solano, Edad: 38\n",
      "La paciente: Laura Méndez, Edad: 55\n",
      "El paciente: Miguel Pérez, Edad: 22\n",
      "La paciente: Carmen Ruiz, Edad: 48\n",
      "El paciente: Jorge Alfaro, Edad: 70\n",
      "La paciente: Isabel Solís, Edad: 31\n",
      "El paciente: Roberto Arias, Edad: 65\n",
      "La paciente: Patricia Mora, Edad: 28\n",
      "El paciente: Andrés Vargas, Edad: 42\n",
      "La paciente: Gabriela Soto, Edad: 59\n"
     ]
    }
   ],
   "source": [
    "# Escribe tu código aquí para el Desafío 2.A\n",
    "for paciente in datos_pacientes:\n",
    "    nombre = paciente[\"nombre\"]\n",
    "    edad = paciente[\"edad\"]\n",
    "    genero = paciente[\"genero\"]\n",
    "\n",
    "    if genero == \"M\":\n",
    "        print(f\"El paciente: {nombre}, Edad: {edad}\")\n",
    "    else:\n",
    "        print(f\"La paciente: {nombre}, Edad: {edad}\")"
   ]
  },
  {
   "cell_type": "code",
   "execution_count": 25,
   "metadata": {},
   "outputs": [
    {
     "name": "stdout",
     "output_type": "stream",
     "text": [
      "Paciente: Ana Gómez, edad: 34\n",
      "Paciente: Luis Mora, edad: 45\n",
      "Paciente: Sofía Salas, edad: 29\n",
      "Paciente: Carlos Rojas, edad: 50\n",
      "Paciente: Elena Castro, edad: 62\n",
      "Paciente: David Solano, edad: 38\n",
      "Paciente: Laura Méndez, edad: 55\n",
      "Paciente: Miguel Pérez, edad: 22\n",
      "Paciente: Carmen Ruiz, edad: 48\n",
      "Paciente: Jorge Alfaro, edad: 70\n",
      "Paciente: Isabel Solís, edad: 31\n",
      "Paciente: Roberto Arias, edad: 65\n",
      "Paciente: Patricia Mora, edad: 28\n",
      "Paciente: Andrés Vargas, edad: 42\n",
      "Paciente: Gabriela Soto, edad: 59\n"
     ]
    }
   ],
   "source": [
    "for paciente in datos_pacientes:\n",
    "    nombre = paciente[\"nombre\"]\n",
    "    edad = paciente[\"edad\"]\n",
    "    print(f\"Paciente: {nombre}, edad: {edad}\")\n",
    "    \n",
    "    \n"
   ]
  },
  {
   "cell_type": "markdown",
   "metadata": {},
   "source": [
    "--- \n",
    "## FASE 3: Análisis de Frecuencias (Bucles Anidados) 🔬\n",
    "\n",
    "¡Nivel intermedio! Ahora debes usar tus conocimientos de ciclos y condicionales para contar elementos. La complejidad es que tienes una **Lista de enfermedades dentro de un Diccionario**.\n",
    "\n",
    "**El reto es:** Usar un ciclo `for` para pacientes, y otro ciclo `for` **anidado** para las enfermedades."
   ]
  },
  {
   "attachments": {},
   "cell_type": "markdown",
   "metadata": {
    "language": "python"
   },
   "source": [
    "### Desafío 3.A: Reporte de Enfermedades Tratadas (Doble Ciclo)\n",
    "\n",
    "**Instrucciones:**\n",
    "1. Crea una lista vacía para enfermedades (`lista_enfermedades`) y otra para las cantidades (`lista_cantidades`).\n",
    "2. Usa un ciclo `for` para recorrer cada `paciente`.\n",
    "3. Usa un ciclo `for` **anidado** para recorrer la lista `paciente['enfermedades']`.\n",
    "4. Dentro del ciclo anidado, aplica la lógica de conteo (`if...in`, `.index()`, `+= 1`)."
   ]
  },
  {
   "cell_type": "code",
   "execution_count": 30,
   "metadata": {
    "language": "python"
   },
   "outputs": [
    {
     "name": "stdout",
     "output_type": "stream",
     "text": [
      "['migraña', 'gripe', 'gastritis', 'tos cronica', 'alergia', 'hipertension', 'dolor cronico', 'diabetes tipo 2', 'artritis', 'asma', 'colesterol alto', 'ansiedad']\n",
      "[3, 2, 2, 1, 2, 3, 1, 2, 2, 2, 2, 1]\n",
      "\n",
      "--- Reporte de Frecuencias de Enfermedades ---\n",
      "-> Migraña : 3 pacientes\n",
      "-> Gripe : 2 pacientes\n",
      "-> Gastritis : 2 pacientes\n",
      "-> Tos Cronica : 1 pacientes\n",
      "-> Alergia : 2 pacientes\n",
      "-> Hipertension : 3 pacientes\n",
      "-> Dolor Cronico : 1 pacientes\n",
      "-> Diabetes Tipo 2 : 2 pacientes\n",
      "-> Artritis : 2 pacientes\n",
      "-> Asma : 2 pacientes\n",
      "-> Colesterol Alto : 2 pacientes\n",
      "-> Ansiedad : 1 pacientes\n"
     ]
    }
   ],
   "source": [
    "# Escribe tu código aquí para el Desafío 3.A\n",
    "# [migraña,tos,alergia]\n",
    "lista_enfermedades = []\n",
    "# [1,2,3]\n",
    "lista_cantidades = []\n",
    "#Recorrer la lista principal de pacientes\n",
    "for paciente in datos_pacientes:\n",
    "    #print(paciente['enfermedades'])\n",
    "    #Recorro lista de enfermedades dentro de la colección\n",
    "    for enfermedad in paciente['enfermedades']:\n",
    "        #print(enfermedad)\n",
    "        if enfermedad in lista_enfermedades:            \n",
    "            #Aumento las diagnosticos frecuencias\n",
    "            indice = lista_enfermedades.index(enfermedad)\n",
    "            lista_cantidades[indice] += 1\n",
    "        else:\n",
    "            #Agregar la enfermedad nueva\n",
    "            lista_enfermedades.append(enfermedad)\n",
    "            lista_cantidades.append(1)\n",
    "\n",
    "\n",
    "print(lista_enfermedades)\n",
    "print(lista_cantidades)\n",
    "\n",
    "\n",
    "print('\\n--- Reporte de Frecuencias de Enfermedades ---')\n",
    "for i in range(len(lista_enfermedades)):\n",
    "    print(f'-> {lista_enfermedades[i].title()} : {lista_cantidades[i]} pacientes')\n",
    "        \n"
   ]
  },
  {
   "attachments": {},
   "cell_type": "markdown",
   "metadata": {
    "language": "python"
   },
   "source": [
    "### Desafío 3.B: Reporte de Medicamentos Recetados\n",
    "\n",
    "Repite la lógica del Desafío 3.A, pero esta vez analizando la clave `'medicamentos'`."
   ]
  },
  {
   "cell_type": "code",
   "execution_count": null,
   "metadata": {
    "language": "python"
   },
   "outputs": [
    {
     "name": "stdout",
     "output_type": "stream",
     "text": [
      "['acetaminofen', 'ibuprofeno', 'antiacido', 'omeprazol', 'jarabe', 'loratadina', 'losartan', 'tramadol', 'insulina', 'metformina', 'salbutamol', 'atorvastatina', 'fluoxetina']\n",
      "[4, 3, 1, 2, 1, 2, 3, 1, 1, 2, 2, 2, 1]\n",
      "\n",
      "--- Reporte de Frecuencias de Medicamentos ---\n",
      "-> Acetaminofen : 4 pacientes\n",
      "-> Ibuprofeno : 3 pacientes\n",
      "-> Antiacido : 1 pacientes\n",
      "-> Omeprazol : 2 pacientes\n",
      "-> Jarabe : 1 pacientes\n",
      "-> Loratadina : 2 pacientes\n",
      "-> Losartan : 3 pacientes\n",
      "-> Tramadol : 1 pacientes\n",
      "-> Insulina : 1 pacientes\n",
      "-> Metformina : 2 pacientes\n",
      "-> Salbutamol : 2 pacientes\n",
      "-> Atorvastatina : 2 pacientes\n",
      "-> Fluoxetina : 1 pacientes\n"
     ]
    }
   ],
   "source": [
    "# [migraña,tos,alergia]\n",
    "lista_enfermedades = []\n",
    "# [1,2,3]\n",
    "lista_cantidades = []\n",
    "# Recorrer la lista principal de pacientes\n",
    "for paciente in datos_pacientes:\n",
    "    # print(paciente['enfermedades'])\n",
    "    # Recorro lista de enfermedades dentro de la colección\n",
    "    for medicamento in paciente[\"medicamentos\"]:\n",
    "        # print(medicamento)\n",
    "        if medicamento in lista_enfermedades:\n",
    "            # Aumento las diagnosticos frecuencias\n",
    "            indice = lista_enfermedades.index(medicamento)\n",
    "            lista_cantidades[indice] += 1\n",
    "        else:\n",
    "            # Agregar la medicamento nueva\n",
    "            lista_enfermedades.append(medicamento)\n",
    "            lista_cantidades.append(1)\n",
    "\n",
    "\n",
    "print(lista_enfermedades)\n",
    "print(lista_cantidades)\n",
    "\n",
    "\n",
    "print(\"\\n--- Reporte de Frecuencias de Medicamentos ---\")\n",
    "for i in range(len(lista_enfermedades)):\n",
    "    print(f\"-> {lista_enfermedades[i].title()} : {lista_cantidades[i]} pacientes\")"
   ]
  },
  {
   "cell_type": "markdown",
   "metadata": {},
   "source": [
    "--- \n",
    "## FASE 4: Ingeniería de Datos - Comparación de Historias ⚙️\n",
    "\n",
    "¡Nivel Avanzado! Vas a simular una herramienta de comparación de historiales. Debes buscar dos pacientes por cédula y encontrar qué tienen en común."
   ]
  },
  {
   "attachments": {},
   "cell_type": "markdown",
   "metadata": {
    "language": "python"
   },
   "source": [
    "### Desafío 4.A: Elementos en Común\n",
    "\n",
    "**Instrucciones:**\n",
    "1. Pide la cédula (clave `'cedula'`) de dos pacientes.\n",
    "2. **Recorre la lista principal** (`datos_pacientes`) para encontrar los diccionarios de ambos pacientes y asigna sus listas de `'enfermedades'` y `'medicamentos'` a variables temporales.\n",
    "3. Usa bucles `for` y `if...in` para encontrar y mostrar los elementos que se repiten en las listas de ambos pacientes.\n",
    "\n",
    "**Prueba con:**\n",
    "```\n",
    "Cédula 1: 89076541\n",
    "Cédula 2: 45522221\n",
    "Resultado Esperado: Enfermedades en común: ['migraña'], Medicamentos en común: ['acetaminofen']\n",
    "```"
   ]
  },
  {
   "cell_type": "code",
   "execution_count": 36,
   "metadata": {
    "language": "python",
    "tags": []
   },
   "outputs": [
    {
     "name": "stdout",
     "output_type": "stream",
     "text": [
      "[]\n",
      "[]\n"
     ]
    }
   ],
   "source": [
    "# SOLUCIÓN Desafío 4.A\n",
    "\n",
    "# Ingreso de datos (Puedes reemplazar con los valores de prueba para ejecución automática)\n",
    "try:\n",
    "    cedula_1 = int(input(\"Ingrese la cédula del primer paciente (Ej: 89076541): \"))\n",
    "    cedula_2 = int(input(\"Ingrese la cédula del segundo paciente (Ej: 45522221): \"))\n",
    "except ValueError:\n",
    "    # Usamos valores de prueba si hay error de input, para demostrar la lógica\n",
    "    cedula_1 = 89076541\n",
    "    cedula_2 = 45522221\n",
    "    print(f\"Usando valores de prueba: {cedula_1} y {cedula_2}\")\n",
    "\n",
    "\n",
    "# Variables para almacenar las listas de cada paciente\n",
    "enfermedades_p1 = []\n",
    "medicamentos_p1 = []\n",
    "enfermedades_p2 = []\n",
    "medicamentos_p2 = []\n",
    "\n",
    "# 1. Búsqueda y Asignación\n",
    "for paciente in datos_pacientes:\n",
    "    if paciente['cedula'] == cedula_1:\n",
    "        enfermedades_p1.extend(paciente['enfermedades'])\n",
    "        medicamentos_p1.extend(paciente['medicamentos'])\n",
    "    \n",
    "    if paciente['cedula'] == cedula_2:\n",
    "        enfermedades_p2.extend(paciente['enfermedades'])\n",
    "        medicamentos_p2.extend(paciente['medicamentos'])\n",
    "\n",
    "# 2. Lógica de Comparación (Buscando elementos comunes)\n",
    "\n",
    "# Enfermedades en común (evitando duplicados)\n",
    "enfermedades_comunes = []\n",
    "for enf in enfermedades_p1:\n",
    "    if enf in enfermedades_p2 and enf not in enfermedades_comunes:\n",
    "        enfermedades_comunes.append(enf)\n",
    "\n",
    "\n",
    "medicamentos_comunes = []\n",
    "for med in medicamentos_p1:\n",
    "    if med in medicamentos_p2 and med not in medicamentos_comunes:\n",
    "        medicamentos_comunes.append(med)\n",
    "\n",
    "\n",
    "print(medicamentos_comunes)\n",
    "print(enfermedades_comunes)\n"
   ]
  },
  {
   "attachments": {},
   "cell_type": "markdown",
   "metadata": {
    "language": "python"
   },
   "source": [
    "## Desafío Final: Arte y Matemáticas - Reflexión 🎨📊\n",
    "\n",
    "Has analizado con éxito datos complejos. Es momento de reflexionar:\n",
    "\n",
    "### Preguntas de Reflexión:\n",
    "\n",
    "- ¿Qué diferencia notaste entre trabajar con la lista simple (Fase 1) y los diccionarios (Fase 3)?\n",
    "- ¿Qué patrón de salud general sugiere la enfermedad más frecuente?\n",
    "- Si pudieras hacer este reto con una herramienta más avanzada, ¿qué otra variable analizarías (por ejemplo: Edad promedio de pacientes con Hipertensión)?"
   ]
  }
 ],
 "metadata": {
  "kernelspec": {
   "display_name": "Python 3",
   "language": "python",
   "name": "python3"
  },
  "language_info": {
   "codemirror_mode": {
    "name": "ipython",
    "version": 3
   },
   "file_extension": ".py",
   "mimetype": "text/x-python",
   "name": "python",
   "nbconvert_exporter": "python",
   "pygments_lexer": "ipython3",
   "version": "3.14.0"
  }
 },
 "nbformat": 4,
 "nbformat_minor": 2
}
