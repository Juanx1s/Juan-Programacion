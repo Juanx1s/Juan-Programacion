{
 "cells": [
  {
   "cell_type": "markdown",
   "metadata": {
    "id": "q7R3dARlFtDY"
   },
   "source": [
    "# Primer análisis de casos – Fundamentos de Python\n",
    "\n",
    "## Objetivo:\n",
    "En esta tarea, practicaremos los fundamentos básicos de Python resolviendo **cuatro ejercicios** de la lista planteada. Cada solución debe detallar **entradas**, **procesos** y **salidas** para comprender mejor cómo funciona cada problema.\n",
    "\n",
    "### Formato para cada ejercicio (seleccionemos 4 ejercicios):\n",
    "#### Ejercicio X:\n",
    "- **Descripción del problema:** Incluiremos el enunciado del ejercicio.\n",
    "- **Entradas:** Detallaremos los datos que debemos ingresar.\n",
    "- **Proceso:** Explicaremos cómo resolveremos el problema (algoritmo o fórmula).\n",
    "- **Salidas:** Describiremos el resultado que veremos en pantalla al final del proceso.\n",
    "\n",
    "#### Código del ejercicio:\n",
    "- Escribiremos la solución del ejercicio en una celda de código Python.\n",
    "- Agregaremos comentarios para explicar el código y hacerlo más comprensible.\n",
    "\n",
    "### Conclusión:\n",
    "- Al final, resumiremos lo que hemos aprendido resolviendo los ejercicios.\n",
    "- Reflexionaremos sobre cómo Python nos ayuda a solucionar problemas cotidianos.\n",
    "\n",
    "## Formato de entrega del informe en PDF:\n",
    "\n",
    "Debemos exportar nuestro notebook de Jupyter a formato PDF, cumpliendo con las siguientes pautas:\n",
    "\n",
    "### Portada:\n",
    "- Título: \"Primer análisis de casos – Fundamentos de Python\".\n",
    "- Nuestro nombre completo.\n",
    "- Fecha de entrega.\n",
    "- Curso.\n",
    "\n",
    "### Cuerpo del informe:\n",
    "- **Introducción:** Explicaremos brevemente los ejercicios que hemos seleccionado.\n",
    "- **Desarrollo de cada ejercicio:**\n",
    "  - Descripción del problema.\n",
    "  - Entradas, procesos y salidas detallados.\n",
    "  - Capturas de pantalla del código y del resultado de la ejecución.\n",
    "\n",
    "### Conclusión:\n",
    "- Reflexionaremos sobre el aprendizaje y las posibles dificultades que enfrentamos durante la resolución de los ejercicios.\n",
    "\n",
    "## Lista de ejercicios (Seleccionemos 4):\n",
    "\n",
    "1. Calcular el área de un triángulo a partir de la base y altura ingresadas.\n",
    "2. Convertir una cantidad de dólares a colones.\n",
    "3. Convertir grados centígrados a Fahrenheit.\n",
    "4. Mostrar cuántos segundos tiene un lustro.\n",
    "5. Calcular el tiempo que le toma a la luz viajar del sol a Marte.\n",
    "6. Calcular cuántas vueltas da una llanta en 1 km.\n",
    "7. Calcular la longitud de la sombra de un edificio de 20 metros.\n",
    "8. Comparar si la edad ingresada por dos usuarios es la misma.\n",
    "9. Calcular cuántos meses han transcurrido desde nuestra fecha de nacimiento.\n",
    "10. Calcular el promedio de un alumno en 5 materias.\n",
    "\n",
    "## Proceso de entrega:\n",
    "1. Resolveremos 4 de los ejercicios propuestos en un notebook de.\n",
    "2. Exportaremos el notebook a PDF siguiendo el formato establecido.\n",
    "3. Subiremos el PDF y el archivo de notebook (.ipynb) a la plataforma antes de la fecha límite.\n"
   ]
  },
  {
   "cell_type": "markdown",
   "metadata": {},
   "source": [
    "Problema #1\n",
    "\n",
    "### Convertir una cantidad de dólares a colones.\n",
    "\n",
    "## Entrada: \n",
    "Leer La cantidad de dolares\n",
    "Leer tipo cambio\n",
    "\n",
    "## Proceso:\n",
    "\n",
    "cantidad_dolares * tipo_cambio\n",
    "\n",
    "## Salida:\n",
    "\n",
    "resultado de la multiplicacion"
   ]
  },
  {
   "cell_type": "code",
   "execution_count": 16,
   "metadata": {
    "colab": {
     "base_uri": "https://localhost:8080/"
    },
    "executionInfo": {
     "elapsed": 10485,
     "status": "ok",
     "timestamp": 1712064323417,
     "user": {
      "displayName": "Andrés Mena Abarca",
      "userId": "07418092259593836578"
     },
     "user_tz": 360
    },
    "id": "n3rOsUESDeTs",
    "outputId": "1cd40ed7-f1d2-4b89-bca5-696418df0021"
   },
   "outputs": [
    {
     "name": "stdout",
     "output_type": "stream",
     "text": [
      "Al cambio actual serían 5000.0 colones\n"
     ]
    }
   ],
   "source": [
    "cantidad = float(input(\"Ingrese la cantidad de dolares que desea convertir a colones: \"))\n",
    "tipo_de_cambio = float(input(\"Ingrese el tipo de cambio actual: \"))\n",
    "\n",
    "dolares = cantidad * tipo_de_cambio\n",
    "\n",
    "print(f\"Al cambio actual serían {dolares} colones\")\n",
    "\n"
   ]
  },
  {
   "cell_type": "markdown",
   "metadata": {},
   "source": [
    "# Problema #2\n",
    "\n",
    "### Calcular cuantas vueltas da una llanta en un 1km\n",
    "\n",
    "## Entrada: \n",
    "diametro = valor ingresado por el usuario\n",
    "distancia = 1000\n",
    "pi = 314\n",
    "\n",
    "\n",
    "## Proceso: \n",
    "circunferencia= pi * diametro\n",
    "vueltas = distancia / circunferencia\n",
    "\n",
    "## Salida:\n",
    "La llanta da aproximadamente vueltas vueltas en 1 km"
   ]
  },
  {
   "cell_type": "code",
   "execution_count": 12,
   "metadata": {},
   "outputs": [
    {
     "name": "stdout",
     "output_type": "stream",
     "text": [
      "La llanta da aproximadamente 159.2356687898089 vueltas en 1km\n"
     ]
    }
   ],
   "source": [
    "diametro = float(input(\"Ingrese el diametro de la llanta en metros: \"))\n",
    "distancia = 1000\n",
    "pi = 3.14\n",
    "\n",
    "circunferencia = pi * diametro\n",
    "vueltas = distancia / circunferencia\n",
    "\n",
    "print(f\"La llanta da aproximadamente {vueltas} vueltas en 1km\")"
   ]
  },
  {
   "cell_type": "markdown",
   "metadata": {},
   "source": [
    "# Problema #3\n",
    "\n",
    "### Convertir grados centigrados a farenheit\n",
    "\n",
    "## Entrada: Pedirle al usuario la cantidad de centigrados que desea convertir\n",
    "\n",
    "## Proceso: grados_farenheit = (grados_celcius * 9/5) + 32\n",
    "\n",
    "## Salida: La cantidad de grados farenheit son: "
   ]
  },
  {
   "cell_type": "code",
   "execution_count": 27,
   "metadata": {},
   "outputs": [
    {
     "name": "stdout",
     "output_type": "stream",
     "text": [
      "La cantidad de grados farenheit son: 50.0 \n"
     ]
    }
   ],
   "source": [
    "grados_celcius = float(input(\"Ingrese la cantidad de grados centigrados que desea convertir: \"))\n",
    "\n",
    "\n",
    "grados_farenheit = (grados_celcius * 9/5) + 32\n",
    "\n",
    "print(f\"La cantidad de grados farenheit son: {grados_farenheit} \")\n",
    "\n"
   ]
  },
  {
   "cell_type": "markdown",
   "metadata": {},
   "source": [
    "# Problema #4\n",
    "\n",
    "### Calcular promedio de un alumno en 5 materias \n",
    "\n",
    "## Entrada: ingresar los 5 valores de cada nota\n",
    "\n",
    "## Proceso:\n",
    "suma = nota1 + nota2 + nota3 + nota4 + nota5\n",
    "promedio = suma / 5\n",
    "\n",
    "## Salida: \n",
    "El promedio es: {promedio}"
   ]
  },
  {
   "cell_type": "code",
   "execution_count": 34,
   "metadata": {},
   "outputs": [
    {
     "name": "stdout",
     "output_type": "stream",
     "text": [
      "El promedio es: 82.4\n"
     ]
    }
   ],
   "source": [
    "nota1 = float(input(\"Ingrese la primer nota: \"))\n",
    "nota2 = float(input(\"Ingrese la segunda nota: \"))\n",
    "nota3 = float(input(\"Ingrese la tercer nota: \"))\n",
    "nota4 = float(input(\"Ingrese la cuarta nota: \"))\n",
    "nota5 = float(input(\"Ingrese la quinta nota: \"))\n",
    "\n",
    "suma = nota1 + nota2 + nota3 + nota4 + nota5\n",
    "promedio = suma / 5\n",
    "\n",
    "print(f\"El promedio es: {promedio}\")"
   ]
  }
 ],
 "metadata": {
  "colab": {
   "provenance": []
  },
  "kernelspec": {
   "display_name": "Python 3",
   "name": "python3"
  },
  "language_info": {
   "codemirror_mode": {
    "name": "ipython",
    "version": 3
   },
   "file_extension": ".py",
   "mimetype": "text/x-python",
   "name": "python",
   "nbconvert_exporter": "python",
   "pygments_lexer": "ipython3",
   "version": "3.13.7"
  }
 },
 "nbformat": 4,
 "nbformat_minor": 0
}
